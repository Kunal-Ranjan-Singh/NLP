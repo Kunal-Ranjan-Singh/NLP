{
  "nbformat": 4,
  "nbformat_minor": 0,
  "metadata": {
    "colab": {
      "provenance": []
    },
    "kernelspec": {
      "name": "python3",
      "display_name": "Python 3"
    },
    "language_info": {
      "name": "python"
    }
  },
  "cells": [
    {
      "cell_type": "code",
      "execution_count": null,
      "metadata": {
        "colab": {
          "base_uri": "https://localhost:8080/"
        },
        "id": "r4b_tRR0B_go",
        "outputId": "f41fe1f9-1766-43f6-f866-15383541ca99"
      },
      "outputs": [
        {
          "output_type": "stream",
          "name": "stderr",
          "text": [
            "[nltk_data] Downloading package punkt to /root/nltk_data...\n",
            "[nltk_data]   Package punkt is already up-to-date!\n"
          ]
        },
        {
          "output_type": "execute_result",
          "data": {
            "text/plain": [
              "True"
            ]
          },
          "metadata": {},
          "execution_count": 11
        }
      ],
      "source": [
        "import nltk\n",
        "from nltk.stem import PorterStemmer, WordNetLemmatizer, LancasterStemmer, RegexpStemmer, SnowballStemmer\n",
        "nltk.download('punkt')"
      ]
    },
    {
      "cell_type": "code",
      "source": [
        "nltk.download('omw-1.4')\n",
        "nltk.download('punkt_tab')\n",
        "nltk.download('wordnet')\n",
        "nltk.download('stopwords')"
      ],
      "metadata": {
        "colab": {
          "base_uri": "https://localhost:8080/"
        },
        "id": "X_8NO5dVCSa1",
        "outputId": "a46592b9-67c6-4b0a-ac3a-c812b8c63a0c"
      },
      "execution_count": null,
      "outputs": [
        {
          "output_type": "stream",
          "name": "stderr",
          "text": [
            "[nltk_data] Downloading package omw-1.4 to /root/nltk_data...\n",
            "[nltk_data]   Package omw-1.4 is already up-to-date!\n",
            "[nltk_data] Downloading package punkt_tab to /root/nltk_data...\n",
            "[nltk_data]   Unzipping tokenizers/punkt_tab.zip.\n",
            "[nltk_data] Downloading package wordnet to /root/nltk_data...\n",
            "[nltk_data]   Package wordnet is already up-to-date!\n",
            "[nltk_data] Downloading package stopwords to /root/nltk_data...\n",
            "[nltk_data]   Unzipping corpora/stopwords.zip.\n"
          ]
        },
        {
          "output_type": "execute_result",
          "data": {
            "text/plain": [
              "True"
            ]
          },
          "metadata": {},
          "execution_count": 12
        }
      ]
    },
    {
      "cell_type": "code",
      "source": [
        "text = \"The quick brown foxes are jumping over the lazy dogs. They also love running in the fields.\""
      ],
      "metadata": {
        "id": "7qg-HuHtCUUk"
      },
      "execution_count": null,
      "outputs": []
    },
    {
      "cell_type": "code",
      "source": [
        "tokens = nltk.word_tokenize(text)"
      ],
      "metadata": {
        "id": "_pIxgNIbCXZX"
      },
      "execution_count": null,
      "outputs": []
    },
    {
      "cell_type": "code",
      "source": [
        "stemmer = PorterStemmer()\n",
        "stemmed_words = [stemmer.stem(word) for word in tokens]\n",
        "print(\"Stemmed Words:\")\n",
        "print(stemmed_words)\n",
        "print()"
      ],
      "metadata": {
        "id": "fHZMPHY5CbNI",
        "colab": {
          "base_uri": "https://localhost:8080/"
        },
        "outputId": "1530889c-fcb3-4f76-e238-1adfe814424e"
      },
      "execution_count": null,
      "outputs": [
        {
          "output_type": "stream",
          "name": "stdout",
          "text": [
            "Stemmed Words:\n",
            "['the', 'quick', 'brown', 'fox', 'are', 'jump', 'over', 'the', 'lazi', 'dog', '.', 'they', 'also', 'love', 'run', 'in', 'the', 'field', '.']\n",
            "\n"
          ]
        }
      ]
    },
    {
      "cell_type": "code",
      "source": [
        "lemmatizer = WordNetLemmatizer()\n",
        "lemmatized_words = [lemmatizer.lemmatize(word) for word in tokens]\n",
        "print(\"Lemmatized Words:\")\n",
        "print(lemmatized_words)\n",
        "print()"
      ],
      "metadata": {
        "id": "gdpoN_WPCdFF",
        "colab": {
          "base_uri": "https://localhost:8080/"
        },
        "outputId": "fb24712b-ff06-451e-af5e-3f4a971e467e"
      },
      "execution_count": null,
      "outputs": [
        {
          "output_type": "stream",
          "name": "stdout",
          "text": [
            "Lemmatized Words:\n",
            "['The', 'quick', 'brown', 'fox', 'are', 'jumping', 'over', 'the', 'lazy', 'dog', '.', 'They', 'also', 'love', 'running', 'in', 'the', 'field', '.']\n",
            "\n"
          ]
        }
      ]
    },
    {
      "cell_type": "code",
      "source": [
        "lancaster = LancasterStemmer()\n",
        "regexp = RegexpStemmer('ing$|s$|ed$', min=4)\n",
        "snowball = SnowballStemmer('english')"
      ],
      "metadata": {
        "id": "VZZmPKWQCe4Z"
      },
      "execution_count": null,
      "outputs": []
    },
    {
      "cell_type": "code",
      "source": [
        "words = ['running', 'cats', 'fishing', 'trouble', 'connection', 'organization', 'truthful', 'probabilities']"
      ],
      "metadata": {
        "id": "W2dVz9TiChvF"
      },
      "execution_count": null,
      "outputs": []
    },
    {
      "cell_type": "code",
      "source": [
        "lancaster_stemmed = [lancaster.stem(word) for word in words]\n",
        "regexp_stemmed = [regexp.stem(word) for word in words]\n",
        "snowball_stemmed = [snowball.stem(word) for word in words]"
      ],
      "metadata": {
        "id": "ahMgD2_CCl_7"
      },
      "execution_count": null,
      "outputs": []
    },
    {
      "cell_type": "code",
      "source": [
        "print(\"Lancaster Stemmer:\", lancaster_stemmed)\n",
        "print(\"Regexp Stemmer:\", regexp_stemmed)\n",
        "print(\"Snowball Stemmer:\", snowball_stemmed)"
      ],
      "metadata": {
        "id": "nVXz9spDColB",
        "colab": {
          "base_uri": "https://localhost:8080/"
        },
        "outputId": "19ca16e4-ae50-44e6-d4a7-755e1db393d3"
      },
      "execution_count": null,
      "outputs": [
        {
          "output_type": "stream",
          "name": "stdout",
          "text": [
            "Lancaster Stemmer: ['run', 'cat', 'fish', 'troubl', 'connect', 'org', 'truth', 'prob']\n",
            "Regexp Stemmer: ['runn', 'cat', 'fish', 'trouble', 'connection', 'organization', 'truthful', 'probabilitie']\n",
            "Snowball Stemmer: ['run', 'cat', 'fish', 'troubl', 'connect', 'organ', 'truth', 'probabl']\n"
          ]
        }
      ]
    }
  ]
}