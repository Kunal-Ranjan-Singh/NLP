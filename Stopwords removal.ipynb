{
  "nbformat": 4,
  "nbformat_minor": 0,
  "metadata": {
    "colab": {
      "provenance": []
    },
    "kernelspec": {
      "name": "python3",
      "display_name": "Python 3"
    },
    "language_info": {
      "name": "python"
    }
  },
  "cells": [
    {
      "cell_type": "code",
      "execution_count": null,
      "metadata": {
        "colab": {
          "base_uri": "https://localhost:8080/"
        },
        "id": "yTCcmBj5DQvq",
        "outputId": "c30d7b5c-2131-4815-cd12-7ce75daa9a3f"
      },
      "outputs": [
        {
          "output_type": "stream",
          "name": "stderr",
          "text": [
            "[nltk_data] Downloading package stopwords to /root/nltk_data...\n",
            "[nltk_data]   Unzipping corpora/stopwords.zip.\n",
            "[nltk_data] Downloading package punkt_tab to /root/nltk_data...\n",
            "[nltk_data]   Unzipping tokenizers/punkt_tab.zip.\n"
          ]
        },
        {
          "output_type": "stream",
          "name": "stdout",
          "text": [
            "English: example sentence English .\n",
            "Spanish: ejemplo frase español .\n",
            "French: Ceci exemple phrase français .\n",
            "German: Beispiel Satz Deutsch .\n",
            "Italian: esempio frase italiano .\n"
          ]
        }
      ],
      "source": [
        "import nltk\n",
        "from nltk.corpus import stopwords\n",
        "from nltk.tokenize import word_tokenize\n",
        "\n",
        "# Download NLTK stopwords and punkt data\n",
        "nltk.download('stopwords')\n",
        "nltk.download('punkt_tab')\n",
        "\n",
        "def remove_stopwords(text, language):\n",
        "    # Tokenize the input text into words\n",
        "    words = word_tokenize(text)\n",
        "\n",
        "    # Get the list of stopwords for the specified language\n",
        "    stop_words = set(stopwords.words(language))\n",
        "\n",
        "    # Remove stopwords from the list of words\n",
        "    filtered_words = [word for word in words if word.lower() not in stop_words]\n",
        "\n",
        "    # Join the filtered words to form the cleaned text\n",
        "    cleaned_text = ' '.join(filtered_words)\n",
        "\n",
        "    return cleaned_text\n",
        "\n",
        "# Example text in different languages\n",
        "english_text = \"This is an example sentence in English.\"\n",
        "spanish_text = \"Este es un ejemplo de frase en español.\"\n",
        "french_text = \"Ceci est un exemple de phrase en français.\"\n",
        "german_text = \"Dies ist ein Beispiel für einen Satz in Deutsch.\"\n",
        "italian_text = \"Questo è un esempio di frase in italiano.\"\n",
        "\n",
        "# Remove stopwords from the texts in different languages\n",
        "english_result = remove_stopwords(english_text, 'english')\n",
        "spanish_result = remove_stopwords(spanish_text, 'spanish')\n",
        "french_result = remove_stopwords(french_text, 'french')\n",
        "german_result = remove_stopwords(german_text, 'german')\n",
        "italian_result = remove_stopwords(italian_text, 'italian')\n",
        "\n",
        "# Print the results\n",
        "print(\"English:\", english_result)\n",
        "print(\"Spanish:\", spanish_result)\n",
        "print(\"French:\", french_result)\n",
        "print(\"German:\", german_result)\n",
        "print(\"Italian:\", italian_result)"
      ]
    }
  ]
}