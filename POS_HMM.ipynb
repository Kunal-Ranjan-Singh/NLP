{
  "nbformat": 4,
  "nbformat_minor": 0,
  "metadata": {
    "colab": {
      "provenance": []
    },
    "kernelspec": {
      "name": "python3",
      "display_name": "Python 3"
    },
    "language_info": {
      "name": "python"
    }
  },
  "cells": [
    {
      "cell_type": "code",
      "execution_count": null,
      "metadata": {
        "colab": {
          "base_uri": "https://localhost:8080/"
        },
        "id": "WTcbN_ImjibQ",
        "outputId": "787e99cc-d53c-4cfd-d1c8-7abf74fabe56"
      },
      "outputs": [
        {
          "output_type": "stream",
          "name": "stdout",
          "text": [
            "Enter a sentence: The dog is chasing a cat\n",
            "+---------+-----------+\n",
            "| Word    | POS Tag   |\n",
            "+=========+===========+\n",
            "| The     | DT        |\n",
            "+---------+-----------+\n",
            "| dog     | NNP       |\n",
            "+---------+-----------+\n",
            "| is      | NNP       |\n",
            "+---------+-----------+\n",
            "| chasing | NNP       |\n",
            "+---------+-----------+\n",
            "| a       | NNP       |\n",
            "+---------+-----------+\n",
            "| cat     | NNP       |\n",
            "+---------+-----------+\n"
          ]
        }
      ],
      "source": [
        "import nltk\n",
        "from nltk.tag import hmm\n",
        "from nltk.corpus import treebank\n",
        "from tabulate import tabulate\n",
        "\n",
        "data = treebank.tagged_sents()[:3000]\n",
        "test_data = treebank.tagged_sents()[3000:]\n",
        "\n",
        "trainer = hmm.HiddenMarkovModelTrainer()\n",
        "tagging_model = trainer.train(data)\n",
        "\n",
        "sentence = input(\"Enter a sentence: \").split()\n",
        "tagged_sentence = tagging_model.tag(sentence)\n",
        "\n",
        "print(tabulate(tagged_sentence, headers=[\"Word\", \"POS Tag\"], tablefmt=\"grid\"))"
      ]
    }
  ]
}