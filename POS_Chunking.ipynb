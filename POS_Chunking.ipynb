{
  "nbformat": 4,
  "nbformat_minor": 0,
  "metadata": {
    "colab": {
      "provenance": []
    },
    "kernelspec": {
      "name": "python3",
      "display_name": "Python 3"
    },
    "language_info": {
      "name": "python"
    }
  },
  "cells": [
    {
      "cell_type": "code",
      "execution_count": null,
      "metadata": {
        "colab": {
          "base_uri": "https://localhost:8080/"
        },
        "id": "SU9GtV0WbWdv",
        "outputId": "9ec0e81e-bfb0-42d9-a9b0-54fecfa64caf"
      },
      "outputs": [
        {
          "output_type": "stream",
          "name": "stdout",
          "text": [
            "(S\n",
            "  (NP The/DT quick/JJ broen/NN)\n",
            "  (NP fox/NN)\n",
            "  (VP jumps/VBZ)\n",
            "  (PP over/IN (NP the/DT lazy/JJ dog/NN)))\n",
            "                                    S                                      \n",
            "           _________________________|_____________________                  \n",
            "          |                |        |                     PP               \n",
            "          |                |        |         ____________|_____            \n",
            "          NP               NP       VP       |                  NP         \n",
            "   _______|________        |        |        |       ___________|______     \n",
            "The/DT quick/JJ broen/NN fox/NN jumps/VBZ over/IN the/DT     lazy/JJ dog/NN\n",
            "\n"
          ]
        },
        {
          "output_type": "stream",
          "name": "stderr",
          "text": [
            "[nltk_data] Downloading package punkt_tab to /root/nltk_data...\n",
            "[nltk_data]   Package punkt_tab is already up-to-date!\n",
            "[nltk_data] Downloading package averaged_perceptron_tagger_eng to\n",
            "[nltk_data]     /root/nltk_data...\n",
            "[nltk_data]   Package averaged_perceptron_tagger_eng is already up-to-\n",
            "[nltk_data]       date!\n"
          ]
        }
      ],
      "source": [
        "import nltk\n",
        "from nltk import pos_tag, word_tokenize, RegexpParser\n",
        "nltk.download('punkt_tab')\n",
        "nltk.download('averaged_perceptron_tagger_eng')\n",
        "\n",
        "sentence = \"The quick broen fox jumps over the lazy dog\"\n",
        "tokens = word_tokenize(sentence)\n",
        "pos_tags = pos_tag(tokens)\n",
        "\n",
        "chunk_grammar = r\"\"\"\n",
        "    NP: {<DT>?<JJ>*<NN>}\n",
        "    VP: {<VB.*><NP|PP>*}\n",
        "    PP: {<IN><NP>}\n",
        "\"\"\"\n",
        "\n",
        "chunk_parser = RegexpParser(chunk_grammar)\n",
        "chunk_tree = chunk_parser.parse(pos_tags)\n",
        "\n",
        "print(chunk_tree)\n",
        "chunk_tree.pretty_print()\n"
      ]
    },
    {
      "cell_type": "code",
      "source": [],
      "metadata": {
        "id": "5LChPSBncBzW"
      },
      "execution_count": null,
      "outputs": []
    }
  ]
}