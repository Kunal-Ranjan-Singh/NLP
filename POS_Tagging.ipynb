{
  "nbformat": 4,
  "nbformat_minor": 0,
  "metadata": {
    "colab": {
      "provenance": []
    },
    "kernelspec": {
      "name": "python3",
      "display_name": "Python 3"
    },
    "language_info": {
      "name": "python"
    }
  },
  "cells": [
    {
      "cell_type": "code",
      "execution_count": null,
      "metadata": {
        "colab": {
          "base_uri": "https://localhost:8080/"
        },
        "id": "9zJYCnlwRx2-",
        "outputId": "655e85e1-9553-45d0-d1b1-2532f67fbe97"
      },
      "outputs": [
        {
          "output_type": "stream",
          "name": "stdout",
          "text": [
            "Word\t\tPoS Tag\n",
            "=========================\n",
            "My             PRP$\n",
            "name           NN\n",
            "is             VBZ\n",
            "Kunal          NNP\n",
            "and            CC\n",
            "i              VB\n",
            "am             VBP\n",
            "excellent      JJ\n"
          ]
        },
        {
          "output_type": "stream",
          "name": "stderr",
          "text": [
            "[nltk_data] Downloading package punkt_tab to /root/nltk_data...\n",
            "[nltk_data]   Package punkt_tab is already up-to-date!\n",
            "[nltk_data] Downloading package averaged_perceptron_tagger_eng to\n",
            "[nltk_data]     /root/nltk_data...\n",
            "[nltk_data]   Package averaged_perceptron_tagger_eng is already up-to-\n",
            "[nltk_data]       date!\n",
            "[nltk_data] Downloading package tagsets to /root/nltk_data...\n",
            "[nltk_data]   Package tagsets is already up-to-date!\n"
          ]
        }
      ],
      "source": [
        "import nltk\n",
        "\n",
        "nltk.download('punkt_tab')\n",
        "nltk.download('averaged_perceptron_tagger_eng')\n",
        "nltk.download('tagsets')\n",
        "\n",
        "text = \"My name is Kunal and i am excellent\"\n",
        "\n",
        "tokens = nltk.word_tokenize(text)\n",
        "pos_tags = nltk.pos_tag(tokens)\n",
        "\n",
        "print(\"Word\\t\\tPoS Tag\")\n",
        "print(\"=\" * 25)\n",
        "for word, tag in pos_tags:\n",
        "    print(f\"{word:15}{tag}\")\n"
      ]
    }
  ]
}