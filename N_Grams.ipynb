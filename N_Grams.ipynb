{
  "nbformat": 4,
  "nbformat_minor": 0,
  "metadata": {
    "colab": {
      "provenance": []
    },
    "kernelspec": {
      "name": "python3",
      "display_name": "Python 3"
    },
    "language_info": {
      "name": "python"
    }
  },
  "cells": [
    {
      "cell_type": "code",
      "execution_count": 6,
      "metadata": {
        "colab": {
          "base_uri": "https://localhost:8080/"
        },
        "id": "pLtRYMs9N8Hc",
        "outputId": "18498b34-b58f-4a43-edd8-6a448cc8e9e9"
      },
      "outputs": [
        {
          "output_type": "stream",
          "name": "stdout",
          "text": [
            "Top 2-grams:\n",
            "this is: 1\n",
            "is a: 1\n",
            "a simple: 1\n",
            "simple example: 1\n",
            "example to: 1\n",
            "to demonstrate: 1\n",
            "demonstrate ngrams: 1\n",
            "ngrams generation: 1\n",
            "generation and: 1\n",
            "and frequency: 1\n",
            "frequency analysis: 1\n"
          ]
        },
        {
          "output_type": "stream",
          "name": "stderr",
          "text": [
            "[nltk_data] Downloading package punkt to /root/nltk_data...\n",
            "[nltk_data]   Package punkt is already up-to-date!\n"
          ]
        }
      ],
      "source": [
        "import re\n",
        "from collections import Counter\n",
        "from nltk.util import ngrams\n",
        "from nltk.tokenize import word_tokenize\n",
        "import nltk\n",
        "\n",
        "# Download necessary resources\n",
        "nltk.download('punkt')\n",
        "\n",
        "def preprocess_text(text):\n",
        "    text = text.lower()  # Convert to lowercase\n",
        "    text = re.sub(r'[^a-z\\s]', '', text)  # Remove special characters and numbers\n",
        "    tokens = word_tokenize(text)  # Tokenize text\n",
        "    return tokens\n",
        "\n",
        "def generate_ngrams(tokens, n):\n",
        "    return list(ngrams(tokens, n))\n",
        "\n",
        "def analyze_ngrams(text, n):\n",
        "    tokens = preprocess_text(text)\n",
        "    ngram_list = generate_ngrams(tokens, n)\n",
        "    ngram_freq = Counter(ngram_list)\n",
        "    return ngram_freq.most_common()\n",
        "\n",
        "if __name__ == \"__main__\":  # Corrected\n",
        "    sample_text = \"This is a simple example to demonstrate N-grams generation and frequency analysis.\"\n",
        "    n = 2  # Change this to 1 for unigrams, 2 for bigrams, 3 for trigrams, etc.\n",
        "\n",
        "    ngram_frequencies = analyze_ngrams(sample_text, n)\n",
        "\n",
        "    print(f\"Top {n}-grams:\")\n",
        "    for ngram, freq in ngram_frequencies:\n",
        "        print(f\"{' '.join(ngram)}: {freq}\")\n"
      ]
    }
  ]
}